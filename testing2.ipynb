{
 "cells": [
  {
   "cell_type": "code",
   "execution_count": 50,
   "metadata": {},
   "outputs": [
    {
     "name": "stdout",
     "output_type": "stream",
     "text": [
      "['1.c4 c5 2.Nf3 b6 3.Nc3 Bb7 4.e3 e6 5.d4 cxd4 6.exd4 Bb4 7.Bd3 Nf6 8.O-O h6\\n9.d5 O-O 10.Nd4 Bxc3 11.bxc3 Na6 12.Qf3 Nc5 13.Bc2 Ba6 14.Re1 Bxc4 15.Bxh6\\ngxh6 16.Qf4 Nh7 17.Re3 f5 18.Rg3+ Kh8 19.Nf3 Bxd5 20.Ne5 Qf6 21.Rg6 Qe7 \\n22.Rxh6 Rg8 23.Ng6+ Rxg6 24.Rxg6 Rg8 25.Qe5+ Rg7 26.Re1 Nf8 27.Rg3 Ne4 28.\\nBxe4 Bxe4 29.Ree3 d6 30.Qd4 e5 31.Qd1 Ne6 32.Rxg7 Nxg7 33.Qd2 Kg8 34.f3 \\nBb7 35.f4 Be4 36.Rg3 Kf7 37.a4 exf4 38.Qxf4 Nh5 0-1', '1.c4 g6 2.Nc3 c5 3.g3 Bg7 4.Bg2 Nc6 5.Nf3 d6 6.O-O Bf5 7.a3 Qd7 8.Nd5 Rc8 \\n9.Re1 Nf6 10.Nxf6+ Bxf6 11.d3 O-O 12.Rb1 a6 13.b4 cxb4 14.axb4 b5 15.cxb5 \\naxb5 16.Bb2 Bxb2 17.Rxb2 Rc7 18.d4 d5 19.Bf1 Rfc8 20.Qd2 e6 21.h3 f6 22.\\nRa1 Nd8 23.Rba2 Nf7 24.Ra6 Nd6 25.g4 Nc4 26.Qh6 Bc2 27.Ne1 Nd6 28.Qf4 Ne4 \\n29.f3 g5 30.Qh2 Nd2 31.h4 Nb3 32.R1a3 Nxd4 33.hxg5 fxg5 34.e3 Nb3 35.Qe5 \\nNd2 36.Rxe6 Bg6 37.Raa6 Rc1 38.Rxg6+ hxg6 39.Rxg6+ Kh7 40.Qxg5 1-0', '1.c4 Nf6 2.g3 c5 3.Bg2 Nc6 4.Nc3 e6 5.Nf3 d5 6.cxd5 Nxd5 7.O-O Be7 8.d4 \\nO-O 9.Nxd5 exd5 10.dxc5 Bxc5 11.Bg5 Qd7 12.Qd3 Re8 13.Rad1 Bb6 14.Bd2 h6 \\n15.Bc3 Qg4 16.Rfe1 Bf5 17.Qd2 Rad8 18.e3 1/2-1/2', '1.d4 d5 2.c4 c5 3.cxd5 Nf6 4.dxc5 Qxd5 5.Qxd5 Nxd5 6.Bd2 Nc6 7.Na3 e5 8.\\nRc1 Bf5 9.e3 Ndb4 10.Bxb4 Nxb4 11.Bb5+ Ke7 12.Nf3 1/2-1/2', '1.d4 d5 2.c4 dxc4 3.e4 e5 4.Nf3 Nf6 5.Nbd2 exd4 6.Bxc4 Be7 7.e5 Nd5 8.Qb3 \\nc6 9.Nxd4 O-O 10.N2f3 Bb4+ 11.Ke2 Bg4 12.h3 Bh5 13.Rd1 Qb6 14.g4 Bg6 15.\\nNf5 a5 16.Bxd5 cxd5 17.a3 Qa6+ 18.Qd3 Bc5 19.Qxa6 Nxa6 20.Rxd5 Rfe8 21.Be3\\nb6 22.Rad1 f6 23.Rd7 Bf8 24.exf6 gxf6 25.Rb7 Nc5 26.Rxb6 Na4 27.Rxf6 Nxb2 \\n28.Rd7 Rad8 29.Rxd8 Rxd8 30.Bd4 Nc4 31.a4 Rd5 32.Rc6 Bxf5 33.gxf5 Nd6 34.\\nf6 Nf5 35.Bc3 1-0', '1.d4 d5 2.c4 dxc4 3.e4 e5 4.Nf3 Nf6 5.Bxc4 Nxe4 6.O-O Be7 7.Nxe5 Nd6 8.Bb3\\nO-O 9.Nc3 Nd7 10.Nf3 Nf6 11.Re1 Bf5 12.Bg5 c6 13.Re5 Re8 14.Qe2 Nd5 15.\\nBxd5 Bxg5 16.Rxe8+ Nxe8 17.Qe5 g6 18.Nxg5 Qxg5 19.Be4 Ng7 20.Bxf5 Re8 21.\\nBe6 Nxe6 1/2-1/2', '1.d4 d5 2.c4 dxc4 3.Nf3 a6 4.e3 Bg4 5.Bxc4 e6 6.O-O Nc6 7.Nbd2 Nf6 8.b3 \\nBd6 9.Bb2 O-O 10.Be2 h6 11.Rc1 Nd5 12.Ne4 Qe7 13.h3 Bf5 14.Nfd2 Bg6 15.\\nNxd6 cxd6 16.Ba3 Ndb4 17.Nc4 Nxa2 18.Bxd6 Qg5 19.Bxf8 Nxc1 20.Qxc1 Rxf8 \\n21.Bf3 Nb4 22.Bxb7 Bd3 23.Re1 Rb8 24.Ne5 Bc2 25.Bxa6 Bxb3 26.Be2 Bd5 27.\\nBf1 Qe7 28.e4 Ba8 29.Re3 f6 30.Nf3 Qd6 31.Qc4 Nc6 32.Re1 Rb4 33.Qa2 Bb7 \\n34.d5 exd5 35.exd5 Ne5 36.Nxe5 fxe5 37.Qa3 Qb6 38.Rxe5 Rb1 39.Re8+ Kf7 40.\\nQf8+ 1-0', '1.d4 e6 2.c4 d5 3.Nc3 a6 4.cxd5 exd5 5.Bf4 Nf6 6.e3 Bd6 7.Bg5 Be6 8.Bd3 \\nNbd7 9.Nge2 h6 10.Bf4 Nb6 11.O-O O-O 12.h3 Re8 13.Qc2 Rc8 14.Rad1 Qe7 15.\\nRfe1 Bd7 16.Qb3 Be6 17.Rc1 Nh5 18.Bxd6 Qxd6 19.a4 c5 20.dxc5 Qxc5 21.Nb5 \\nNc4 22.Nbd4 Bd7 23.Qxb7 Rc7 24.Qb3 Qa5 25.Qc3 Rb7 26.b3 Qxc3 27.Rxc3 Ne5 \\n28.Bxa6 Rb6 29.Bb5 Bxb5 30.axb5 Nf6 31.Rec1 1-0', '1.d4 Nf6 2.Bf4 d5 3.e3 e6 4.Nd2 Bd6 5.Bg3 c5 6.Ngf3 Nc6 7.c3 O-O 8.Bd3 b6 \\n9.Qe2 Bb7 10.Rd1 h6 11.Ne5 Qc7 12.f4 Ne7 13.Qf3 Nf5 14.Bf2 Be7 15.g4 Nd6 \\n16.g5 hxg5 17.fxg5 Nfe4 18.Bxe4 dxe4 19.Qh5 cxd4 20.cxd4 Bxg5 21.Rg1 f6 \\n22.Ng6 Nf7 23.Bh4 Bxe3 24.Bxf6 Bxg1 25.Ne7+ Qxe7 26.Bxe7 e3 27.Nc4 Ng5 28.\\nBxf8 Bf2+ 29.Kf1 Rxf8 30.Ne5 Bg3+ 31.Ke2 Bxe5 32.Qxg5 Bf3+ 33.Ke1 Bxh2 34.\\nRd3 Bf4 35.Qh4 g5 36.Qh3 g4 37.Qh4 Kg7 38.d5 exd5 39.Rxe3 Bxe3 40.Qe7+ Rf7\\n41.Qxe3 Kf6 42.Kf2 Re7 43.Qc3+ Ke6 44.Qc8+ Kd6 45.Qd8+ Rd7 46.Qb8+ Kc6 47.\\nQa8+ Kd6 48.Qb8+ Rc7 49.Ke3 Kc6 1/2-1/2', '1.d4 Nf6 2.c4 e6 3.Nc3 Bb4 4.e3 O-O 5.Ne2 Re8 6.a3 Bf8 7.g3 d5 8.Bg2 dxc4 \\n9.Qa4 c5 10.Qxc4 cxd4 11.exd4 Nc6 12.O-O Bd7 13.b4 Rc8 14.Qb3 Qb6 15.Rd1 \\nNe7 16.Nf4 Bc6 17.d5 Nexd5 18.Ncxd5 Nxd5 19.Nxd5 exd5 20.Be3 Qa6 21.Bxd5 \\nBxd5 22.Rxd5 Qe6 23.Rad1 a6 24.a4 b5 25.axb5 axb5 26.Qb1 Rc3 27.Qf5 \\n1/2-1/2', '1.d4 Nf6 2.c4 e6 3.Nf3 c5 4.d5 exd5 5.cxd5 d6 6.Nc3 g6 7.Bf4 a6 8.a4 Nh5 \\n9.Bg5 f6 10.Bd2 f5 11.Ng5 Bh6 12.Ne6 Bxd2+ 13.Qxd2 Bxe6 14.dxe6 Nf6 15.\\nO-O-O Nc6 16.g3 Qe7 17.Qxd6 Qxd6 18.Rxd6 Ke7 19.Rd1 Rad8 20.Bh3 Nd4 21.Bg2\\nNg4 22.e3 Nxe6 23.Nd5+ Kf7 24.Rd2 c4 25.Kc2 Nc5 26.Kc3 Nxa4+ 27.Kxc4 Nb6+ \\n28.Kb4 Nxf2 29.Rc1 Nxd5+ 30.Bxd5+ Kf6 31.Rcc2 Ng4 32.Bxb7 Nxe3 33.Rc6+ Kg5\\n34.Rxd8 Rxd8 35.Bxa6 Rd2 36.b3 Rxh2 37.Rd6 Rg2 38.Kc5 Rxg3 39.b4 Nc2 40.\\nBd3 Na3 41.Kd4 h5 42.Ra6 h4 43.Rxa3 h3 44.Ra1 h2 45.Rh1 Rg4+ 46.Kc5 Rh4 \\n47.b5 Kf4 48.b6 Kg3 49.b7 Rh8 50.Bb5 f4 51.Bc6 g5 52.Kd6 g4 53.Bd7 Rb8 54.\\nKc7 Rxb7+ 55.Kxb7 Kg2 56.Rxh2+ Kxh2 57.Bxg4 1/2-1/2', '1.d4 Nf6 2.c4 e6 3.Nf3 b6 4.g3 Bb4+ 5.Bd2 Bxd2+ 6.Qxd2 Ba6 7.b3 c6 8.Bg2 \\nd5 9.O-O Nbd7 10.Rd1 O-O 11.Ne5 Nxe5 12.dxe5 Nd7 13.e4 Nxe5 14.exd5 cxd5 \\n15.cxd5 Qf6 16.f4 Nd3 17.Qc3 e5 18.Nd2 Rfc8 19.Nc4 b5 20.Qxd3 bxc4 21.bxc4\\nRxc4 22.d6 Rd8 23.Qa3 Bc8 24.Qxa7 exf4 25.Qe7 fxg3 26.hxg3 Bg4 27.Rf1 Qd4+\\n28.Kh2 Rf8 29.Rae1 h5 30.Rf4 Qc3 31.Re3 Qb4 32.a3 Qa4 33.Rxg4 hxg4 34.d7 \\nRcc8 35.dxc8=Q Rxc8 36.Re4 Qd1 37.Qg5 Qc2 38.Qxg4 1-0', '1.d4 Nf6 2.c4 e6 3.Nf3 b6 4.g3 Ba6 5.Qa4 Bb7 6.Bg2 c5 7.dxc5 bxc5 8.O-O \\nBe7 9.Nc3 O-O 10.Bf4 Qb6 11.Rfd1 d6 12.Rab1 Na6 13.a3 Bc6 14.Qc2 Rfd8 15.\\nRd2 Rd7 16.Rbd1 Rad8 17.e4 Nh5 18.Be3 Qb8 19.Ng5 g6 20.f4 Nc7 21.f5 Re8 \\n22.fxg6 hxg6 23.e5 Bxg2 24.Kxg2 Qb7+ 25.Kg1 d5 26.g4 Ng7 27.Rf1 Rf8 28.\\nNce4 Qc6 29.Nf6+ Bxf6 30.exf6 Nge8 31.cxd5 Nxd5 32.Bxc5 Rc7 33.Rc1 Qa6 34.\\nQd1 Nexf6 35.Bxf8 Qb6+ 36.Kh1 Rxc1 37.Qxc1 Kxf8 38.h3 Qe3 39.Rc2 Qg3 40.\\nRg2 Qe5 41.Qc8+ Ne8 42.Qc5+ Kg8 43.Nf3 Qf4 44.Rf2 Nef6 45.Ng1 Qb8 46.Rc2 \\nQe5 47.Qxa7 Qe4+ 48.Rg2 Ne3 49.Qb8+ Kg7 50.Qg3 Nxg2 51.Qxg2 Qb1 52.Qe2 Nd5\\n53.Kh2 g5 54.Nf3 f6 55.h4 Nf4 56.Qf2 Nd3 57.Qa7+ Kg6 58.hxg5 Qxb2+ 59.Kg3 \\nfxg5 60.Qd4 Qxa3 61.Qd8 Ne1 62.Qg8+ Kf6 63.Qxg5+ Kf7 64.Qf4+ Ke8 65.Qb8+ \\nKf7']\n"
     ]
    }
   ],
   "source": [
    "import re, itertools\n",
    "import numpy as np\n",
    "\n",
    "\n",
    "\n",
    "### Data-related\n",
    "\n",
    "db = open(\"../pgn_databases/test.pgn\", \"r\")\n",
    "\n",
    "print(db.read(10000).split(\"\\n\\n\")[1::2])\n",
    "\n",
    "f_dict = {\"a\": 0, \"b\": 1, \"c\": 2, \"d\": 3, \"e\": 4, \"f\": 5, \"g\": 6, \"h\": 7}\n",
    "\n",
    "### Board-related\n",
    "\n",
    "def init_board():\n",
    "    board = np.zeros((8, 8, 6), dtype=np.int8)\n",
    "    \n",
    "    # Pawns\n",
    "    board[1, :, 0] = -1\n",
    "    board[6, :, 0] = 1\n",
    "    \n",
    "    # Non-royalty\n",
    "    for j in range(3):\n",
    "        board[0, [j, 7-j], j+1] = -1\n",
    "        board[7, [j, 7-j], j+1] = 1\n",
    "    \n",
    "    # Queens\n",
    "    board[0, 3, 4] = -1\n",
    "    board[7, 3, 4] = 1\n",
    "    \n",
    "    # Kings\n",
    "    board[0, 4, 5] = -1\n",
    "    board[7, 4, 5] = 1\n",
    "    \n",
    "    return board\n",
    "\n",
    "    \n",
    "def unroll(board):\n",
    "    return board.ravel()\n",
    "\n",
    "    \n",
    "    \n",
    "### Move-related\n",
    "def parse_move(move):\n",
    "    \n",
    "    # Remove check notation (+)\n",
    "    pattern = re.compile(\"\\+\") \n",
    "    move = pattern.sub(\"\", move)    \n",
    "    \n",
    "    piece_dict = {\"R\": 1, \"N\": 2, \"B\": 3, \"Q\": 4, \"K\": 5}\n",
    "    ambig = None\n",
    "    \n",
    "    # Identify piece type\n",
    "    if move[0].isupper():\n",
    "        d = piece_dict[move[0]]\n",
    "        move = move[1:]\n",
    "    else:\n",
    "        d = 0\n",
    "        if \"x\" in move:\n",
    "            ambig = move[0]\n",
    "            move = move[2:]\n",
    "    \n",
    "    # Check for ambiguity in move\n",
    "    if len(move) == 3:\n",
    "        ambig = move[0]\n",
    "        move = move[1:]\n",
    "    elif len(move) > 3:\n",
    "        return -1\n",
    "    \n",
    "    r, f = 8-int(move[1]), f_dict[move[0]]\n",
    "    \n",
    "    return [r, f, d, ambig]\n",
    "\n",
    "    \n",
    "    \n",
    "def find_diags(to):\n",
    "    \"\"\" Finds squares on both diagonals that target square lies on \"\"\"\n",
    "    r, f, d, ambig = to\n",
    "    \n",
    "    diags = set()\n",
    "    \n",
    "    # Down-left    \n",
    "    r_, f_ = r, f\n",
    "    while r_ >= 0 and f_ <= 7:\n",
    "        diags.add((r_, f_))\n",
    "        r_ -= 1\n",
    "        f_ += 1\n",
    "    # Up-right\n",
    "    r_, f_ = r, f\n",
    "    while f_ >= 0 and r_ <= 7:\n",
    "        diags.add((r_, f_))\n",
    "        r_ += 1\n",
    "        f_ -= 1    \n",
    "    # Down-right\n",
    "    r_, f_ = r, f\n",
    "    while max(r_, f_) <= 7:\n",
    "        diags.add((r_, f_))\n",
    "        r_ += 1\n",
    "        f_ += 1\n",
    "    # Up-left\n",
    "    r_, f_ = r, f\n",
    "    while min(r_, f_) >= 0:\n",
    "        diags.add((r_, f_))\n",
    "        r_ -= 1\n",
    "        f_ -= 1  \n",
    "        \n",
    "    return list(diags)\n",
    "    \n",
    "    \n",
    "    \n",
    "def move_simple(to, player):\n",
    "    \"\"\"\n",
    "    Wipes old position and adds new position of the single piece in a layer\n",
    "    \"\"\"\n",
    "    r, f, d, ambig = to\n",
    "    board[:, :, d] = np.multiply(board[:, :, d],\n",
    "                                 np.array([board[:, :, d] != player]))\n",
    "    board[r, f, d] = player\n",
    "    \n",
    "    \n",
    "    \n",
    "def move_KQ(to, player):\n",
    "    move_simple(to, player=player)\n",
    "    \n",
    "\n",
    "    \n",
    "def move_R(to, player):\n",
    "    r, f, d, ambig = to\n",
    "    \n",
    "    # If there's only one piece of that type\n",
    "    if np.array([board[:, :, d] == player]).sum() == 1:\n",
    "        return move_simple(to, player)\n",
    "    \n",
    "    # Check to see if it's the only piece of its type on the rank\n",
    "    elif np.array([board[:, f, d] == player]).sum() == 1:\n",
    "        board[:, f, d] = np.multiply(board[:, f, d],\n",
    "                                     np.array([board[:, f, d] != player]))\n",
    "    \n",
    "    # Check to see if it's the only piece of its type on the file    \n",
    "    elif np.array([board[r, :, d] == player]).sum() == 1:\n",
    "        board[r, :, d] = np.multiply(board[r, :, d],\n",
    "                                     np.array([board[r, :, d] != player]))\n",
    "                                     \n",
    "    # Use the disambiguator            \n",
    "    else:\n",
    "        try:\n",
    "            a = int(ambig)-1\n",
    "            board[:, a, d] = np.multiply(board[:, a, d],\n",
    "                                         np.array([board[:, a, d] != player]))\n",
    "            \n",
    "        except ValueError:\n",
    "            a = rank_dict[ambig]\n",
    "            board[a, :, d] = np.multiply(board[a, :, d],\n",
    "                                         np.array([board[a, :, d] != player]))\n",
    "        \n",
    "    board[r, f, d] = player\n",
    "\n",
    "    \n",
    "    \n",
    "def move_N(to, player):\n",
    "    r, f, d, ambig = to\n",
    "    \n",
    "    # If there's only one piece of that type\n",
    "    if np.array([board[:, :, d] == player]).sum() == 1:\n",
    "        return move_simple(to, player)\n",
    "    \n",
    "    # Check to see if it's the only one in potential origin squares\n",
    "    origins = [[2, 1], [2, -1], [1, 2], [1, -2],\n",
    "               [-1, 2], [-1, -2], [-2, 1], [-2, -1]]\n",
    "    \n",
    "    count = 0\n",
    "    \n",
    "    for og in origins:\n",
    "        r_, f_ = np.add([r, f], og)\n",
    "        if 0 <= r_ <= 7 and 0 <= f_ <= 7:\n",
    "            if board[r_, f_, d] == player:\n",
    "                count += 1\n",
    "                \n",
    "    if count == 1:\n",
    "        for og in origins:\n",
    "            r_, f_ = np.add([r, f], og)\n",
    "            if 0 <= r_ <= 7 and 0 <= f_ <= 7:\n",
    "                if board[r_, f_, d] == player:\n",
    "                    board[r_, f_, d] = 0\n",
    "                    \n",
    "    # Use the disambiguator            \n",
    "    else:\n",
    "        try:\n",
    "            a = int(ambig)-1\n",
    "            board[:, a, d] = np.multiply(board[:, a, d],\n",
    "                                         np.array([board[:, a, d] != player]))\n",
    "            \n",
    "        except ValueError:\n",
    "            a = rank_dict[ambig]\n",
    "            board[a, :, d] = np.multiply(board[a, :, d],\n",
    "                                         np.array([board[a, :, d] != player]))\n",
    "    \n",
    "    board[r, f, d] = player\n",
    "        \n",
    "    \n",
    "\n",
    "    \n",
    "def move_B(to, player):\n",
    "    r, f, d, ambig = to\n",
    "   \n",
    "    # If there's only one piece of that type\n",
    "    if np.array([board[:, :, d] == player]).sum() == 1:\n",
    "        return move_simple(to, player)\n",
    "    \n",
    "    # Only one bishop on each square colour; so just wipe both diagonals        \n",
    "    else:\n",
    "        diags = find_diags(to)\n",
    "        for square in diags:\n",
    "            r_, f_ = square\n",
    "            if board[r_, f_, 3] == player:\n",
    "                board[r_, f_, 3] = 0\n",
    "        \n",
    "    board[r, f, d] = player\n",
    "    \n",
    "    \n",
    "    \n",
    "def move_P(to, player):\n",
    "    r, f, d, ambig = to\n",
    "    \n",
    "    if ambig is not None:\n",
    "        a = f_dict[ambig]\n",
    "        board[r+player, a, d] = 0\n",
    "\n",
    "    elif board[r+player, f, d] == player:\n",
    "        board[r+player, f, d] = 0\n",
    "        \n",
    "    else:\n",
    "        board[r+2*player, f, d] = 0\n",
    "        \n",
    "    board[r, f, d] = player"
   ]
  },
  {
   "cell_type": "code",
   "execution_count": 40,
   "metadata": {},
   "outputs": [
    {
     "data": {
      "text/plain": [
       "array([[ 0,  0,  0,  0, -1,  0,  0,  0],\n",
       "       [ 0,  0,  0,  0,  0,  0,  0,  0],\n",
       "       [ 0,  0,  0,  0,  0,  0,  0,  0],\n",
       "       [ 0,  0,  0,  0,  0,  0,  0,  0],\n",
       "       [ 0,  0,  0,  0,  0,  0,  0,  0],\n",
       "       [ 0,  0,  0,  0,  0,  0,  0,  0],\n",
       "       [ 0,  0,  0,  0,  0,  0,  0,  0],\n",
       "       [ 0,  0,  0,  0,  1,  0,  0,  0]], dtype=int8)"
      ]
     },
     "execution_count": 40,
     "metadata": {},
     "output_type": "execute_result"
    }
   ],
   "source": [
    "board = init_board()\n",
    "board[:, :, 5]"
   ]
  },
  {
   "cell_type": "code",
   "execution_count": 27,
   "metadata": {},
   "outputs": [
    {
     "data": {
      "text/plain": [
       "array([[ 0,  0,  0,  0, -1,  0,  0,  0],\n",
       "       [ 0,  0,  0,  0,  0,  0,  0,  0],\n",
       "       [ 0,  0,  0,  0,  0,  0,  0,  0],\n",
       "       [ 0,  0,  0,  0,  0,  0,  0,  0],\n",
       "       [ 0,  0,  0,  0,  0,  0,  0,  0],\n",
       "       [ 0,  0,  0,  0,  0,  0,  0,  0],\n",
       "       [ 0,  0,  0,  0,  0,  0,  0,  0],\n",
       "       [ 0,  0,  0,  1,  0,  0,  0,  0]], dtype=int8)"
      ]
     },
     "execution_count": 27,
     "metadata": {},
     "output_type": "execute_result"
    }
   ],
   "source": [
    "move_KQ(parse_move(\"Kd1\"), 1)\n",
    "board[:, :, 5]"
   ]
  },
  {
   "cell_type": "code",
   "execution_count": 31,
   "metadata": {},
   "outputs": [
    {
     "data": {
      "text/plain": [
       "array([[ 0, -1,  0,  0,  0,  0, -1,  0],\n",
       "       [ 0,  0,  0,  0,  0,  0,  0,  0],\n",
       "       [ 0,  0,  0,  0,  0,  0,  0,  0],\n",
       "       [ 0,  0,  0,  0,  0,  0,  0,  0],\n",
       "       [ 0,  0,  0,  0,  0,  0,  0,  0],\n",
       "       [ 0,  0,  1,  0,  0,  0,  0,  0],\n",
       "       [ 0,  0,  0,  0,  0,  0,  0,  0],\n",
       "       [ 0,  0,  0,  0,  0,  0,  1,  0]], dtype=int8)"
      ]
     },
     "execution_count": 31,
     "metadata": {},
     "output_type": "execute_result"
    }
   ],
   "source": [
    "move_N(parse_move(\"Nc3\"), 1)\n",
    "board[:, :, 2]"
   ]
  },
  {
   "cell_type": "code",
   "execution_count": 32,
   "metadata": {},
   "outputs": [
    {
     "data": {
      "text/plain": [
       "array([[ 0,  0,  0,  0,  0,  0,  0, -1],\n",
       "       [ 0,  0,  0,  0,  0,  0,  0,  0],\n",
       "       [ 0,  0,  0,  0,  0,  0,  0,  0],\n",
       "       [-1,  0,  0,  0,  0,  0,  0,  0],\n",
       "       [ 0,  0,  0,  0,  0,  0,  0,  0],\n",
       "       [ 0,  0,  0,  0,  0,  0,  0,  0],\n",
       "       [ 0,  0,  0,  0,  0,  0,  0,  0],\n",
       "       [ 1,  0,  0,  0,  0,  0,  0,  1]], dtype=int8)"
      ]
     },
     "execution_count": 32,
     "metadata": {},
     "output_type": "execute_result"
    }
   ],
   "source": [
    "move_R(parse_move(\"Ra5\"), -1)\n",
    "board[:, :, 1]"
   ]
  },
  {
   "cell_type": "code",
   "execution_count": 33,
   "metadata": {},
   "outputs": [
    {
     "data": {
      "text/plain": [
       "array([[ 0,  0, -1,  0,  0,  0,  0,  0],\n",
       "       [ 0,  0,  0,  0,  0,  0,  0,  0],\n",
       "       [ 0,  0,  0,  0,  0,  0,  0,  0],\n",
       "       [ 0,  0,  0,  0,  0,  0,  0,  0],\n",
       "       [ 0, -1,  0,  0,  0,  0,  0,  0],\n",
       "       [ 0,  0,  0,  0,  0,  0,  0,  0],\n",
       "       [ 0,  0,  0,  0,  0,  0,  0,  0],\n",
       "       [ 0,  0,  1,  0,  0,  1,  0,  0]], dtype=int8)"
      ]
     },
     "execution_count": 33,
     "metadata": {},
     "output_type": "execute_result"
    }
   ],
   "source": [
    "move_B(parse_move(\"Bb4\"), -1)\n",
    "board[:, :, 3]"
   ]
  },
  {
   "cell_type": "code",
   "execution_count": 41,
   "metadata": {},
   "outputs": [
    {
     "data": {
      "text/plain": [
       "array([[ 0,  0,  0,  0,  0,  0,  0,  0],\n",
       "       [-1, -1, -1, -1, -1,  0, -1, -1],\n",
       "       [ 0,  0,  0,  0,  0,  0,  0,  0],\n",
       "       [ 0,  0,  0,  0,  0, -1,  0,  0],\n",
       "       [ 0,  0,  0,  0,  0,  0,  1,  0],\n",
       "       [ 0,  0,  0,  1,  0,  0,  0,  0],\n",
       "       [ 1,  1,  1,  0,  1,  1,  0,  1],\n",
       "       [ 0,  0,  0,  0,  0,  0,  0,  0]], dtype=int8)"
      ]
     },
     "execution_count": 41,
     "metadata": {},
     "output_type": "execute_result"
    }
   ],
   "source": [
    "move_P(parse_move(\"d3\"), 1)\n",
    "move_P(parse_move(\"f5\"), -1)\n",
    "move_P(parse_move(\"g4\"), 1)\n",
    "board[:, :, 0]"
   ]
  },
  {
   "cell_type": "code",
   "execution_count": 52,
   "metadata": {},
   "outputs": [
    {
     "data": {
      "text/plain": [
       "array([[ 0,  0,  0,  0,  0,  0,  0,  0],\n",
       "       [-1, -1, -1, -1, -1,  0, -1, -1],\n",
       "       [ 0,  0,  0,  0,  0,  0,  0,  0],\n",
       "       [ 0,  0,  0,  0,  0,  0,  0,  0],\n",
       "       [ 0,  0,  0,  0,  0,  0, -1,  0],\n",
       "       [ 0,  0,  0,  1,  0,  0,  0,  0],\n",
       "       [ 1,  1,  1,  0,  1,  1,  0,  1],\n",
       "       [ 0,  0,  0,  0,  0,  0,  0,  0]], dtype=int8)"
      ]
     },
     "execution_count": 52,
     "metadata": {},
     "output_type": "execute_result"
    }
   ],
   "source": [
    "move_P(parse_move(\"fxg4\"), -1)\n",
    "board[:, :, 0]"
   ]
  },
  {
   "cell_type": "code",
   "execution_count": 51,
   "metadata": {},
   "outputs": [
    {
     "data": {
      "text/plain": [
       "[4, 6, 0, 'f']"
      ]
     },
     "execution_count": 51,
     "metadata": {},
     "output_type": "execute_result"
    }
   ],
   "source": [
    "parse_move(\"fxg4\")"
   ]
  },
  {
   "cell_type": "code",
   "execution_count": 53,
   "metadata": {},
   "outputs": [
    {
     "data": {
      "text/plain": [
       "array([[ 0,  0,  0,  0,  0,  0,  0,  0],\n",
       "       [-1, -1, -1, -1, -1,  0, -1, -1],\n",
       "       [ 0,  0,  0,  0,  0,  0,  0,  0],\n",
       "       [ 0,  0,  0,  0,  0,  0,  0,  0],\n",
       "       [ 0,  0,  0,  0,  0,  0,  1,  0],\n",
       "       [ 0,  0,  0,  1,  0,  1,  0,  0],\n",
       "       [ 1,  1,  1,  0,  1,  0,  0,  0],\n",
       "       [ 0,  0,  0,  0,  0,  0,  0,  0]], dtype=int8)"
      ]
     },
     "execution_count": 53,
     "metadata": {},
     "output_type": "execute_result"
    }
   ],
   "source": [
    "move_P(parse_move(\"f3\"), 1)\n",
    "move_P(parse_move(\"h3\"), 1)\n",
    "move_P(parse_move(\"hxg4\"), 1)\n",
    "board[:, :, 0]"
   ]
  },
  {
   "cell_type": "code",
   "execution_count": null,
   "metadata": {
    "collapsed": true
   },
   "outputs": [],
   "source": []
  }
 ],
 "metadata": {
  "kernelspec": {
   "display_name": "Python 3",
   "language": "python",
   "name": "python3"
  },
  "language_info": {
   "codemirror_mode": {
    "name": "ipython",
    "version": 3
   },
   "file_extension": ".py",
   "mimetype": "text/x-python",
   "name": "python",
   "nbconvert_exporter": "python",
   "pygments_lexer": "ipython3",
   "version": "3.6.1"
  }
 },
 "nbformat": 4,
 "nbformat_minor": 2
}
