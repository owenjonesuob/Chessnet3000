{
 "cells": [
  {
   "cell_type": "code",
   "execution_count": 1,
   "metadata": {
    "collapsed": true
   },
   "outputs": [],
   "source": [
    "import tensorflow as tf\n",
    "import numpy as np\n",
    "\n",
    "from __future__ import absolute_import, division, print_function"
   ]
  },
  {
   "cell_type": "code",
   "execution_count": 2,
   "metadata": {},
   "outputs": [
    {
     "data": {
      "text/plain": [
       "array([[[1, 2],\n",
       "        [3, 4]],\n",
       "\n",
       "       [[5, 6],\n",
       "        [7, 8]]])"
      ]
     },
     "execution_count": 2,
     "metadata": {},
     "output_type": "execute_result"
    }
   ],
   "source": [
    "test = np.array([[[1, 2], [3, 4]], [[5, 6], [7, 8]]])\n",
    "test"
   ]
  },
  {
   "cell_type": "code",
   "execution_count": 3,
   "metadata": {},
   "outputs": [
    {
     "data": {
      "text/plain": [
       "array([3, 4, 1, 2, 7, 8, 5, 6])"
      ]
     },
     "execution_count": 3,
     "metadata": {},
     "output_type": "execute_result"
    }
   ],
   "source": [
    "np.flip(test, 1).ravel()"
   ]
  },
  {
   "cell_type": "code",
   "execution_count": 31,
   "metadata": {
    "collapsed": true
   },
   "outputs": [],
   "source": [
    "def init_board():\n",
    "    board = np.zeros((8, 8, 6), dtype=np.int8)\n",
    "    \n",
    "    # Pawns\n",
    "    board[1, :, 0] = -1\n",
    "    board[6, :, 0] = 1\n",
    "    \n",
    "    # Medium\n",
    "    for j in range(3):\n",
    "        board[0, [j, 7-j], j+1] = -1\n",
    "        board[7, [j, 7-j], j+1] = 1\n",
    "    \n",
    "    # Queens\n",
    "    board[0, 3, 4] = -1\n",
    "    board[7, 3, 4] = 1\n",
    "    \n",
    "    # Kings\n",
    "    board[0, 4, 5] = -1\n",
    "    board[7, 4, 5] = 1\n",
    "    \n",
    "    return board"
   ]
  },
  {
   "cell_type": "code",
   "execution_count": 5,
   "metadata": {
    "collapsed": true
   },
   "outputs": [],
   "source": [
    "board =init_board()"
   ]
  },
  {
   "cell_type": "code",
   "execution_count": 6,
   "metadata": {
    "collapsed": true
   },
   "outputs": [],
   "source": [
    "import string, re"
   ]
  },
  {
   "cell_type": "code",
   "execution_count": 7,
   "metadata": {},
   "outputs": [
    {
     "data": {
      "text/plain": [
       "'Nf5'"
      ]
     },
     "execution_count": 7,
     "metadata": {},
     "output_type": "execute_result"
    }
   ],
   "source": [
    "move = \"Nxf5+\"\n",
    "pattern = re.compile(\"[\\Wx]+\") \n",
    "pattern.sub(\"\", move)"
   ]
  },
  {
   "cell_type": "code",
   "execution_count": 8,
   "metadata": {
    "collapsed": true
   },
   "outputs": [],
   "source": [
    "def parse_move(move):\n",
    "    \n",
    "    # Remove capture/check notation (x/+)\n",
    "    pattern = re.compile(\"[\\Wx]+\") \n",
    "    move = pattern.sub(\"\", move)    \n",
    "    \n",
    "    piece_dict = {\"R\": 1, \"N\": 2, \"B\": 3, \"Q\": 4, \"K\": 5}\n",
    "    \n",
    "    # Identify piece type\n",
    "    if move[0].isupper():\n",
    "        d = piece_dict[move[0]]\n",
    "        move = move[1:]\n",
    "    else:\n",
    "        d = 0\n",
    "        \n",
    "    # Check for ambiguity in move\n",
    "    if len(move) == 3:\n",
    "        ambig = move[0]\n",
    "        move = move[1:]\n",
    "    elif len(move) > 3:\n",
    "        return -1\n",
    "    else:\n",
    "        ambig = None\n",
    "     \n",
    "    \n",
    "    rank_dict = {\"a\": 7, \"b\": 6, \"c\": 5, \"d\": 4, \"e\": 3, \"f\": 2, \"g\": 1, \"h\": 0}\n",
    "    \n",
    "    r, f = rank_dict[move[0]], int(move[1])-1\n",
    "    \n",
    "    return [r, f, d, ambig]"
   ]
  },
  {
   "cell_type": "code",
   "execution_count": 9,
   "metadata": {},
   "outputs": [
    {
     "data": {
      "text/plain": [
       "[7, 3, 5, None]"
      ]
     },
     "execution_count": 9,
     "metadata": {},
     "output_type": "execute_result"
    }
   ],
   "source": [
    "parse_move(\"Kxa4\")"
   ]
  },
  {
   "cell_type": "code",
   "execution_count": 10,
   "metadata": {
    "collapsed": true
   },
   "outputs": [],
   "source": [
    "board = init_board()"
   ]
  },
  {
   "cell_type": "code",
   "execution_count": 11,
   "metadata": {
    "collapsed": true
   },
   "outputs": [],
   "source": [
    "def unroll(board):\n",
    "    return board.ravel()"
   ]
  },
  {
   "cell_type": "code",
   "execution_count": 12,
   "metadata": {},
   "outputs": [
    {
     "data": {
      "text/plain": [
       "array([ 0, -1,  0,  0,  0,  0,  0,  0, -1,  0,  0,  0,  0,  0,  0, -1,  0,\n",
       "        0,  0,  0,  0,  0, -1,  0,  0,  0,  0,  0,  0, -1,  0,  0,  0, -1,\n",
       "        0,  0,  0,  0, -1,  0,  0,  0,  0, -1,  0,  0,  0,  0, -1,  0,  0,\n",
       "        0,  0,  0, -1,  0,  0,  0,  0,  0, -1,  0,  0,  0,  0,  0, -1,  0,\n",
       "        0,  0,  0,  0, -1,  0,  0,  0,  0,  0, -1,  0,  0,  0,  0,  0, -1,\n",
       "        0,  0,  0,  0,  0, -1,  0,  0,  0,  0,  0,  0,  0,  0,  0,  0,  0,\n",
       "        0,  0,  0,  0,  0,  0,  0,  0,  0,  0,  0,  0,  0,  0,  0,  0,  0,\n",
       "        0,  0,  0,  0,  0,  0,  0,  0,  0,  0,  0,  0,  0,  0,  0,  0,  0,\n",
       "        0,  0,  0,  0,  0,  0,  0,  0,  0,  0,  0,  0,  0,  0,  0,  0,  0,\n",
       "        0,  0,  0,  0,  0,  0,  0,  0,  0,  0,  0,  0,  0,  0,  0,  0,  0,\n",
       "        0,  0,  0,  0,  0,  0,  0,  0,  0,  0,  0,  0,  0,  0,  0,  0,  0,\n",
       "        0,  0,  0,  0,  0,  0,  0,  0,  0,  0,  0,  0,  0,  0,  0,  0,  0,\n",
       "        0,  0,  0,  0,  0,  0,  0,  0,  0,  0,  0,  0,  0,  0,  0,  0,  0,\n",
       "        0,  0,  0,  0,  0,  0,  0,  0,  0,  0,  0,  0,  0,  0,  0,  0,  0,\n",
       "        0,  0,  0,  0,  0,  0,  0,  0,  0,  0,  0,  0,  0,  0,  0,  0,  0,\n",
       "        0,  0,  0,  0,  0,  0,  0,  0,  0,  0,  0,  0,  0,  0,  0,  0,  0,\n",
       "        0,  0,  0,  0,  0,  0,  0,  0,  0,  0,  0,  0,  0,  0,  0,  0, -1,\n",
       "        0,  0,  0,  0,  0, -1,  0,  0,  0,  0,  0, -1,  0,  0,  0,  0,  0,\n",
       "       -1,  0,  0,  0,  0,  0, -1,  0,  0,  0,  0,  0, -1,  0,  0,  0,  0,\n",
       "        0, -1,  0,  0,  0,  0,  0, -1,  0,  0,  0,  0,  0,  0,  1,  0,  0,\n",
       "        0,  0,  0,  0,  1,  0,  0,  0,  0,  0,  0,  1,  0,  0,  0,  0,  0,\n",
       "        0,  1,  0,  0,  0,  0,  0,  0,  1,  0,  0,  0,  1,  0,  0,  0,  0,\n",
       "        1,  0,  0,  0,  0,  1,  0,  0,  0,  0], dtype=int8)"
      ]
     },
     "execution_count": 12,
     "metadata": {},
     "output_type": "execute_result"
    }
   ],
   "source": [
    "unroll(board)"
   ]
  },
  {
   "cell_type": "code",
   "execution_count": 13,
   "metadata": {
    "collapsed": true
   },
   "outputs": [],
   "source": [
    "def move_R(to, player):\n",
    "    r, f, d, ambig = to\n",
    "   \n",
    "    if np.array([board[:, :, d] == player]).sum() == 1:\n",
    "        return move_simple(to, player)\n",
    "        \n",
    "    elif np.array([board[:, f, d] == player]).sum() == 1:\n",
    "        board[:, f, d] = np.multiply(board[:, f, d],\n",
    "                                     np.array([board[:, f, d] != player]))\n",
    "        \n",
    "    elif np.array([board[r, :, d] == player]).sum() == 1:\n",
    "        board[r, :, d] = np.multiply(board[r, :, d],\n",
    "                                     np.array([board[r, :, d] != player]))\n",
    "                \n",
    "    else:\n",
    "        try:\n",
    "            a = int(ambig)-1\n",
    "            board[:, a, d] = np.multiply(board[:, a, d],\n",
    "                                         np.array([board[:, a, d] != player]))\n",
    "            \n",
    "        except ValueError:\n",
    "            rank_dict = {\"a\": 7, \"b\": 6, \"c\": 5, \"d\": 4, \"e\": 3, \"f\": 2, \"g\": 1, \"h\": 0}\n",
    "            a = rank_dict(ambig)\n",
    "            board[a, :, d] = np.multiply(board[a, :, d],\n",
    "                                         np.array([board[a, :, d] != player]))\n",
    "        \n",
    "    board[r, f, d] = player\n",
    "        "
   ]
  },
  {
   "cell_type": "code",
   "execution_count": 14,
   "metadata": {},
   "outputs": [
    {
     "name": "stdout",
     "output_type": "stream",
     "text": [
      "[7, 4, 1, '8']\n"
     ]
    },
    {
     "data": {
      "text/plain": [
       "array([[-1,  0,  0,  0,  0,  0,  0, -1],\n",
       "       [ 0,  0,  0,  0,  0,  0,  0,  0],\n",
       "       [ 0,  0,  0,  0,  0,  0,  0,  0],\n",
       "       [ 0,  0,  0,  0,  0,  0,  0,  0],\n",
       "       [ 0,  0,  0,  0,  0,  0,  0,  0],\n",
       "       [ 0,  0,  0,  0,  0,  0,  0,  0],\n",
       "       [ 0,  0,  0,  0,  0,  0,  0,  0],\n",
       "       [ 1,  0,  0,  0,  1,  0,  0,  0]], dtype=int8)"
      ]
     },
     "execution_count": 14,
     "metadata": {},
     "output_type": "execute_result"
    }
   ],
   "source": [
    "board = init_board()\n",
    "move = parse_move(\"R8a5\")\n",
    "print(move)\n",
    "move_R(move, 1)\n",
    "board[:, :, 1]"
   ]
  },
  {
   "cell_type": "code",
   "execution_count": 15,
   "metadata": {},
   "outputs": [
    {
     "data": {
      "text/plain": [
       "[[0, 1, 2], 10]"
      ]
     },
     "execution_count": 15,
     "metadata": {},
     "output_type": "execute_result"
    }
   ],
   "source": [
    "[list(range(0, 3)), 10]"
   ]
  },
  {
   "cell_type": "code",
   "execution_count": 16,
   "metadata": {
    "collapsed": true
   },
   "outputs": [],
   "source": [
    "r = [\"a\", \"b\", \"c\", \"d\", \"e\", \"f\", \"g\", \"h\"]\n",
    "f = list(range(1, 9))\n",
    "\n",
    "move = \"e4\""
   ]
  },
  {
   "cell_type": "code",
   "execution_count": 17,
   "metadata": {
    "collapsed": true
   },
   "outputs": [],
   "source": [
    "def find_diags(to):\n",
    "    \"\"\" Finds squares on both diagonals that target square lies on \"\"\"\n",
    "    r, f, d, ambig = to\n",
    "    \n",
    "    diags = set()\n",
    "    \n",
    "    # Down-left    \n",
    "    r_, f_ = r, f\n",
    "    while r_ >= 0 and f_ <= 7:\n",
    "        diags.add((r_, f_))\n",
    "        r_ -= 1\n",
    "        f_ += 1\n",
    "    # Up-right\n",
    "    r_, f_ = r, f\n",
    "    while f_ >= 0 and r_ <= 7:\n",
    "        diags.add((r_, f_))\n",
    "        r_ += 1\n",
    "        f_ -= 1    \n",
    "    # Down-right\n",
    "    r_, f_ = r, f\n",
    "    while max(r_, f_) <= 7:\n",
    "        diags.add((r_, f_))\n",
    "        r_ += 1\n",
    "        f_ += 1\n",
    "    # Up-left\n",
    "    r_, f_ = r, f\n",
    "    while min(r_, f_) >= 0:\n",
    "        diags.add((r_, f_))\n",
    "        r_ -= 1\n",
    "        f_ -= 1  \n",
    "        \n",
    "    return list(diags)"
   ]
  },
  {
   "cell_type": "code",
   "execution_count": 18,
   "metadata": {},
   "outputs": [
    {
     "data": {
      "text/plain": [
       "[(3, 5),\n",
       " (2, 6),\n",
       " (1, 3),\n",
       " (4, 6),\n",
       " (7, 1),\n",
       " (0, 2),\n",
       " (4, 4),\n",
       " (5, 7),\n",
       " (6, 2),\n",
       " (1, 7),\n",
       " (2, 4),\n",
       " (5, 3)]"
      ]
     },
     "execution_count": 18,
     "metadata": {},
     "output_type": "execute_result"
    }
   ],
   "source": [
    "find_diags([3, 5, 2, None])"
   ]
  },
  {
   "cell_type": "code",
   "execution_count": 19,
   "metadata": {
    "collapsed": true
   },
   "outputs": [],
   "source": [
    "def move_B(to, player):\n",
    "    r, f, d, ambig = to\n",
    "   \n",
    "    # If there's only one piece of that type\n",
    "    if np.array([board[:, :, d] == player]).sum() == 1:\n",
    "        return move_simple(to, player)\n",
    "    \n",
    "    # Only one bishop on each square colour; so just wipe both diagonals        \n",
    "    else:\n",
    "        diags = find_diags(to)\n",
    "        for square in diags:\n",
    "            r_, f_ = square\n",
    "            if board[r_, f_, 3] == player:\n",
    "                board[r_, f_, 3] = 0\n",
    "        \n",
    "    board[r, f, d] = player"
   ]
  },
  {
   "cell_type": "code",
   "execution_count": 20,
   "metadata": {},
   "outputs": [
    {
     "data": {
      "text/plain": [
       "array([[ 0,  0, -1,  0,  0, -1,  0,  0],\n",
       "       [ 0,  0,  0,  0,  0,  0,  0,  0],\n",
       "       [ 0,  0,  0,  0,  0,  0,  0,  0],\n",
       "       [ 0,  0,  0,  0,  0,  0,  0,  0],\n",
       "       [ 0,  0,  0,  0,  0,  0,  0,  0],\n",
       "       [ 0,  0,  0,  0,  0,  0,  0,  0],\n",
       "       [ 0,  0,  0,  0,  0,  0,  0,  0],\n",
       "       [ 0,  0,  1,  0,  0,  1,  0,  0]], dtype=int8)"
      ]
     },
     "execution_count": 20,
     "metadata": {},
     "output_type": "execute_result"
    }
   ],
   "source": [
    "board = init_board()\n",
    "board[:, :, 3]"
   ]
  },
  {
   "cell_type": "code",
   "execution_count": 21,
   "metadata": {},
   "outputs": [
    {
     "data": {
      "text/plain": [
       "array([[ 0,  0,  0,  0,  0, -1,  0,  0],\n",
       "       [ 0, -1,  0,  0,  0,  0,  0,  0],\n",
       "       [ 0,  0,  0,  0,  0,  0,  0,  1],\n",
       "       [ 0,  0,  0,  0,  0,  0,  0,  0],\n",
       "       [ 0,  0,  0,  0,  0,  0,  0,  0],\n",
       "       [ 0,  0,  0,  0,  0,  0,  0,  0],\n",
       "       [ 0,  0,  0,  0,  0,  0,  0,  0],\n",
       "       [ 0,  0,  0,  0,  0,  1,  0,  0]], dtype=int8)"
      ]
     },
     "execution_count": 21,
     "metadata": {},
     "output_type": "execute_result"
    }
   ],
   "source": [
    "move_B(parse_move(\"Bf8\"), 1)\n",
    "board[:, :, 3]\n",
    "move_B(parse_move(\"Bg2\"), -1)\n",
    "board[:, :, 3]"
   ]
  },
  {
   "cell_type": "code",
   "execution_count": 22,
   "metadata": {},
   "outputs": [
    {
     "data": {
      "text/plain": [
       "[(-2, -1),\n",
       " (-2, 1),\n",
       " (-2, 2),\n",
       " (-1, -2),\n",
       " (-1, 1),\n",
       " (-1, 2),\n",
       " (1, -2),\n",
       " (1, -1),\n",
       " (1, 2),\n",
       " (2, -2),\n",
       " (2, -1),\n",
       " (2, 1)]"
      ]
     },
     "execution_count": 22,
     "metadata": {},
     "output_type": "execute_result"
    }
   ],
   "source": [
    "import itertools as it\n",
    "list(it.permutations([-2, -1, 1, 2], 2))"
   ]
  },
  {
   "cell_type": "code",
   "execution_count": 23,
   "metadata": {
    "collapsed": true
   },
   "outputs": [],
   "source": [
    "def move_N(to, player):\n",
    "    r, f, d, ambig = to\n",
    "    \n",
    "    # If there's only one piece of that type\n",
    "    if np.array([board[:, :, d] == player]).sum() == 1:\n",
    "        return move_simple(to, player)\n",
    "    \n",
    "    # Check to see if it's the only one in potential origin squares\n",
    "    origins = [[2, 1], [2, -1], [1, 2], [1, -2],\n",
    "               [-1, 2], [-1, -2], [-2, 1], [-2, -1]]\n",
    "    \n",
    "    count = 0\n",
    "    \n",
    "    for og in origins:\n",
    "        r_, f_ = np.add([r, f], og)\n",
    "        if 0 <= r_ <= 7 and 0 <= f_ <= 7:\n",
    "            if board[r_, f_, d] == player:\n",
    "                count += 1\n",
    "    print(count)            \n",
    "    if count == 1:\n",
    "        for og in origins:\n",
    "            r_, f_ = np.add([r, f], og)\n",
    "            if 0 <= r_ <= 7 and 0 <= f_ <= 7:\n",
    "                if board[r_, f_, d] == player:\n",
    "                    board[r_, f_, d] = 0\n",
    "                    \n",
    "    # Use the disambiguator            \n",
    "    else:\n",
    "        try:\n",
    "            a = int(ambig)-1\n",
    "            board[:, a, d] = np.multiply(board[:, a, d],\n",
    "                                         np.array([board[:, a, d] != player]))\n",
    "            \n",
    "        except ValueError:\n",
    "            a = rank_dict[ambig]\n",
    "            board[a, :, d] = np.multiply(board[a, :, d],\n",
    "                                         np.array([board[a, :, d] != player]))\n",
    "    \n",
    "    board[r, f, d] = player\n",
    "    "
   ]
  },
  {
   "cell_type": "code",
   "execution_count": 24,
   "metadata": {},
   "outputs": [
    {
     "data": {
      "text/plain": [
       "array([[ 0, -1,  0,  0,  0,  0, -1,  0],\n",
       "       [ 0,  0,  0,  0,  0,  0,  0,  0],\n",
       "       [ 0,  0,  0,  0,  0,  0,  0,  0],\n",
       "       [ 0,  0,  0,  0,  0,  0,  0,  0],\n",
       "       [ 0,  0,  0,  0,  0,  0,  0,  0],\n",
       "       [ 0,  0,  0,  0,  0,  0,  0,  0],\n",
       "       [ 0,  0,  0,  0,  0,  0,  0,  0],\n",
       "       [ 0,  1,  0,  0,  0,  0,  1,  0]], dtype=int8)"
      ]
     },
     "execution_count": 24,
     "metadata": {},
     "output_type": "execute_result"
    }
   ],
   "source": [
    "board = init_board()\n",
    "board[:, :, 2]"
   ]
  },
  {
   "cell_type": "code",
   "execution_count": 25,
   "metadata": {},
   "outputs": [
    {
     "name": "stdout",
     "output_type": "stream",
     "text": [
      "1\n",
      "2\n"
     ]
    },
    {
     "data": {
      "text/plain": [
       "array([[ 0, -1,  0,  0,  0,  0, -1,  0],\n",
       "       [ 0,  0,  0,  0,  0,  0,  0,  0],\n",
       "       [ 0,  0,  0,  0,  0,  0,  0,  0],\n",
       "       [ 0,  0,  0,  0,  0,  0,  0,  0],\n",
       "       [ 0,  0,  0,  0,  0,  0,  0,  0],\n",
       "       [ 0,  0,  0,  0,  0,  0,  0,  0],\n",
       "       [ 0,  0,  0,  1,  0,  0,  0,  0],\n",
       "       [ 0,  1,  0,  0,  0,  0,  0,  0]], dtype=int8)"
      ]
     },
     "execution_count": 25,
     "metadata": {},
     "output_type": "execute_result"
    }
   ],
   "source": [
    "rank_dict = {\"a\": 7, \"b\": 6, \"c\": 5, \"d\": 4, \"e\": 3, \"f\": 2, \"g\": 1, \"h\": 0}\n",
    "move_N(parse_move(\"Nc6\"), 1)\n",
    "board[:, :, 2]\n",
    "\n",
    "move_N(parse_move(\"Ncb4\"), 1)\n",
    "board[:, :, 2]"
   ]
  },
  {
   "cell_type": "code",
   "execution_count": 26,
   "metadata": {},
   "outputs": [
    {
     "data": {
      "text/plain": [
       "[6, 3, 2, 'c']"
      ]
     },
     "execution_count": 26,
     "metadata": {},
     "output_type": "execute_result"
    }
   ],
   "source": [
    "parse_move(\"Ncb4\")"
   ]
  },
  {
   "cell_type": "code",
   "execution_count": 27,
   "metadata": {},
   "outputs": [
    {
     "name": "stdout",
     "output_type": "stream",
     "text": [
      "[('a', 3), ('b', 4), ('c', 5), ('d', 6), ('e', 7), ('f', 8)]\n"
     ]
    }
   ],
   "source": [
    "L = ['a', 'b', 'c', 'd', 'e', 'f', 'g', 'h']\n",
    "M = [1, 2, 3, 4, 5, 6, 7, 8]\n",
    "m = L.index('d')\n",
    "n = M.index(6)\n",
    "if m > n:\n",
    "  m, n = (m - n), 0\n",
    "else:\n",
    "  m, n = 0, (n - m)\n",
    "print(list(zip(L[m:], M[n:])))"
   ]
  },
  {
   "cell_type": "code",
   "execution_count": 49,
   "metadata": {
    "collapsed": true
   },
   "outputs": [],
   "source": [
    "def move_P(to, player):\n",
    "    r, f, d, ambig = to\n",
    "    \n",
    "    if ambig is not None:\n",
    "        a = rank_dict[ambig]\n",
    "        board[r+player, a, d] = 0\n",
    "\n",
    "    elif board[r+player, f, d] == player:\n",
    "        board[r+player, f, d] = 0\n",
    "        \n",
    "    else:\n",
    "        board[r+2*player, f, d] = 0\n",
    "        \n",
    "    board[r, f, d] = player"
   ]
  },
  {
   "cell_type": "code",
   "execution_count": 50,
   "metadata": {},
   "outputs": [
    {
     "data": {
      "text/plain": [
       "array([[ 0,  0,  0,  0,  0,  0,  0,  0],\n",
       "       [-1, -1, -1, -1, -1, -1, -1, -1],\n",
       "       [ 0,  0,  0,  0,  0,  0,  0,  0],\n",
       "       [ 0,  0,  0,  0,  0,  0,  0,  0],\n",
       "       [ 0,  0,  0,  0,  0,  0,  0,  0],\n",
       "       [ 0,  0,  0,  0,  0,  0,  0,  0],\n",
       "       [ 1,  1,  1,  1,  1,  1,  1,  1],\n",
       "       [ 0,  0,  0,  0,  0,  0,  0,  0]], dtype=int8)"
      ]
     },
     "execution_count": 50,
     "metadata": {},
     "output_type": "execute_result"
    }
   ],
   "source": [
    "board = init_board()\n",
    "board[:, :, 0]"
   ]
  },
  {
   "cell_type": "code",
   "execution_count": 51,
   "metadata": {},
   "outputs": [
    {
     "data": {
      "text/plain": [
       "array([[ 0,  0,  0,  0,  0,  0,  0,  0],\n",
       "       [-1, -1, -1, -1, -1, -1, -1, -1],\n",
       "       [ 0,  0,  0,  0,  0,  0,  0,  0],\n",
       "       [ 0,  0,  0,  0,  0,  0,  0,  0],\n",
       "       [ 0,  0,  0,  0,  0,  0,  0,  0],\n",
       "       [ 1,  0,  0,  0,  0,  0,  0,  0],\n",
       "       [ 0,  1,  1,  1,  1,  1,  1,  1],\n",
       "       [ 0,  0,  0,  0,  0,  0,  0,  0]], dtype=int8)"
      ]
     },
     "execution_count": 51,
     "metadata": {},
     "output_type": "execute_result"
    }
   ],
   "source": [
    "move_P(parse_move(\"c1\"), 1)\n",
    "board[:, :, 0]"
   ]
  },
  {
   "cell_type": "code",
   "execution_count": 52,
   "metadata": {},
   "outputs": [
    {
     "data": {
      "text/plain": [
       "array([[ 0,  0,  0,  0,  0,  0,  0,  0],\n",
       "       [-1, -1, -1, -1, -1, -1, -1, -1],\n",
       "       [ 0,  0,  0,  0,  0,  0,  0,  0],\n",
       "       [ 0,  0,  0,  0,  0,  0,  0,  0],\n",
       "       [ 0,  0,  0,  0,  0,  1,  0,  0],\n",
       "       [ 1,  0,  0,  0,  0,  0,  0,  0],\n",
       "       [ 0,  1,  1,  1,  1,  0,  1,  1],\n",
       "       [ 0,  0,  0,  0,  0,  0,  0,  0]], dtype=int8)"
      ]
     },
     "execution_count": 52,
     "metadata": {},
     "output_type": "execute_result"
    }
   ],
   "source": [
    "move_P(parse_move(\"d6\"), 1)\n",
    "board[:, :, 0]"
   ]
  },
  {
   "cell_type": "code",
   "execution_count": 53,
   "metadata": {},
   "outputs": [
    {
     "data": {
      "text/plain": [
       "array([[ 0,  0,  0,  0,  0,  0,  0,  0],\n",
       "       [-1, -1, -1,  0, -1, -1, -1, -1],\n",
       "       [ 0,  0,  0,  0,  0,  0,  0,  0],\n",
       "       [ 0,  0,  0, -1,  0,  0,  0,  0],\n",
       "       [ 0,  0,  0,  0,  0,  1,  0,  0],\n",
       "       [ 1,  0,  0,  0,  0,  0,  0,  0],\n",
       "       [ 0,  1,  1,  1,  1,  0,  1,  1],\n",
       "       [ 0,  0,  0,  0,  0,  0,  0,  0]], dtype=int8)"
      ]
     },
     "execution_count": 53,
     "metadata": {},
     "output_type": "execute_result"
    }
   ],
   "source": [
    "move_P(parse_move(\"e4\"), -1)\n",
    "board[:, :, 0]"
   ]
  },
  {
   "cell_type": "code",
   "execution_count": 54,
   "metadata": {},
   "outputs": [
    {
     "data": {
      "text/plain": [
       "array([[ 0,  0,  0,  0,  0,  0,  0,  0],\n",
       "       [-1, -1, -1,  0,  0, -1, -1, -1],\n",
       "       [ 0,  0,  0,  0,  0,  0,  0,  0],\n",
       "       [ 0,  0,  0, -1, -1,  0,  0,  0],\n",
       "       [ 0,  0,  0,  0,  0,  1,  0,  0],\n",
       "       [ 1,  0,  0,  0,  0,  0,  0,  0],\n",
       "       [ 0,  1,  1,  1,  1,  0,  1,  1],\n",
       "       [ 0,  0,  0,  0,  0,  0,  0,  0]], dtype=int8)"
      ]
     },
     "execution_count": 54,
     "metadata": {},
     "output_type": "execute_result"
    }
   ],
   "source": [
    "move_P(parse_move(\"e5\"), -1)\n",
    "board[:, :, 0]"
   ]
  },
  {
   "cell_type": "code",
   "execution_count": 55,
   "metadata": {},
   "outputs": [
    {
     "data": {
      "text/plain": [
       "array([[ 0,  0,  0,  0,  0,  0,  0,  0],\n",
       "       [-1, -1, -1,  0,  0, -1, -1, -1],\n",
       "       [ 0,  0,  0,  0,  0,  0,  0,  0],\n",
       "       [ 0,  0,  0, -1, -1,  0,  0,  0],\n",
       "       [ 0,  0,  0,  0,  0,  1,  0,  0],\n",
       "       [ 1,  0,  0,  0,  0,  0,  0,  0],\n",
       "       [ 0,  1,  1,  1,  1,  0,  1,  1],\n",
       "       [ 0,  0,  0,  0,  0,  0,  0,  0]], dtype=int8)"
      ]
     },
     "execution_count": 55,
     "metadata": {},
     "output_type": "execute_result"
    }
   ],
   "source": [
    "move_P(parse_move(\"c1\"), 1)\n",
    "board[:, :, 0]"
   ]
  },
  {
   "cell_type": "code",
   "execution_count": 61,
   "metadata": {},
   "outputs": [],
   "source": [
    "f_dict = {\"a\": 0, \"b\": 1, \"c\": 2, \"d\": 3, \"e\": 4, \"f\": 5, \"g\": 6, \"h\": 7}\n",
    "\n",
    "def parse_move(move):\n",
    "    \n",
    "    # Remove capture/check notation (x/+)\n",
    "    pattern = re.compile(\"\\+\") \n",
    "    move = pattern.sub(\"\", move)    \n",
    "    \n",
    "    piece_dict = {\"R\": 1, \"N\": 2, \"B\": 3, \"Q\": 4, \"K\": 5}\n",
    "    \n",
    "    # Identify piece type\n",
    "    if move[0].isupper():\n",
    "        d = piece_dict[move[0]]\n",
    "        move = move[1:]\n",
    "    else:\n",
    "        d = 0\n",
    "        if \"x\" in move:\n",
    "            ambig = move[0]\n",
    "            move = move[2:]\n",
    "    \n",
    "    # Check for ambiguity in move\n",
    "    if len(move) == 3:\n",
    "        ambig = move[0]\n",
    "        move = move[1:]\n",
    "    elif len(move) > 3:\n",
    "        return -1\n",
    "    else:\n",
    "        ambig = None\n",
    "    \n",
    "    r, f = int(move[1])-1, f_dict[move[0]]\n",
    "    \n",
    "    return [r, f, d, ambig]"
   ]
  },
  {
   "cell_type": "code",
   "execution_count": 62,
   "metadata": {},
   "outputs": [
    {
     "data": {
      "text/plain": [
       "[3, 2, 0, None]"
      ]
     },
     "execution_count": 62,
     "metadata": {},
     "output_type": "execute_result"
    }
   ],
   "source": [
    "parse_move(\"c4\")"
   ]
  },
  {
   "cell_type": "code",
   "execution_count": null,
   "metadata": {
    "collapsed": true
   },
   "outputs": [],
   "source": []
  }
 ],
 "metadata": {
  "kernelspec": {
   "display_name": "Python 3",
   "language": "python",
   "name": "python3"
  },
  "language_info": {
   "codemirror_mode": {
    "name": "ipython",
    "version": 3
   },
   "file_extension": ".py",
   "mimetype": "text/x-python",
   "name": "python",
   "nbconvert_exporter": "python",
   "pygments_lexer": "ipython3",
   "version": "3.6.1"
  }
 },
 "nbformat": 4,
 "nbformat_minor": 2
}
