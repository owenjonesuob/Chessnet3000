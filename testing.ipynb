{
 "cells": [
  {
   "cell_type": "code",
   "execution_count": 2,
   "metadata": {
    "collapsed": true
   },
   "outputs": [],
   "source": [
    "import tensorflow as tf\n",
    "import numpy as np\n",
    "\n",
    "from __future__ import absolute_import, division, print_function"
   ]
  },
  {
   "cell_type": "code",
   "execution_count": 5,
   "metadata": {},
   "outputs": [
    {
     "ename": "NameError",
     "evalue": "name 'NaN' is not defined",
     "output_type": "error",
     "traceback": [
      "\u001b[1;31m---------------------------------------------------------------------------\u001b[0m",
      "\u001b[1;31mNameError\u001b[0m                                 Traceback (most recent call last)",
      "\u001b[1;32m<ipython-input-5-a0086f23a3fe>\u001b[0m in \u001b[0;36m<module>\u001b[1;34m()\u001b[0m\n\u001b[1;32m----> 1\u001b[1;33m \u001b[0mrange\u001b[0m\u001b[1;33m(\u001b[0m\u001b[1;36m3\u001b[0m\u001b[1;33m,\u001b[0m \u001b[0mNaN\u001b[0m\u001b[1;33m)\u001b[0m\u001b[1;33m\u001b[0m\u001b[0m\n\u001b[0m",
      "\u001b[1;31mNameError\u001b[0m: name 'NaN' is not defined"
     ]
    }
   ],
   "source": [
    "range(3, NaN)"
   ]
  },
  {
   "cell_type": "code",
   "execution_count": 14,
   "metadata": {},
   "outputs": [
    {
     "data": {
      "text/plain": [
       "array([[[1, 2],\n",
       "        [3, 4]],\n",
       "\n",
       "       [[5, 6],\n",
       "        [7, 8]]])"
      ]
     },
     "execution_count": 14,
     "metadata": {},
     "output_type": "execute_result"
    }
   ],
   "source": [
    "test = np.array([[[1, 2], [3, 4]], [[5, 6], [7, 8]]])\n",
    "test"
   ]
  },
  {
   "cell_type": "code",
   "execution_count": 17,
   "metadata": {},
   "outputs": [
    {
     "data": {
      "text/plain": [
       "array([3, 4, 1, 2, 7, 8, 5, 6])"
      ]
     },
     "execution_count": 17,
     "metadata": {},
     "output_type": "execute_result"
    }
   ],
   "source": [
    "np.flip(test, 1).ravel()"
   ]
  },
  {
   "cell_type": "code",
   "execution_count": 216,
   "metadata": {},
   "outputs": [],
   "source": [
    "def init_board():\n",
    "    board = np.zeros((8, 8, 6), dtype=np.int8)\n",
    "    \n",
    "    # Pawns\n",
    "    board[1, :, 0] = -1\n",
    "    board[6, :, 0] = -1\n",
    "    \n",
    "    # Medium\n",
    "    for j in range(3):\n",
    "        board[0, [j, 7-j], j+1] = -1\n",
    "        board[7, [j, 7-j], j+1] = 1\n",
    "    \n",
    "    # Queens\n",
    "    board[0, 3, 4] = -1\n",
    "    board[7, 3, 4] = 1\n",
    "    \n",
    "    # Kings\n",
    "    board[0, 4, 5] = -1\n",
    "    board[7, 4, 5] = 1\n",
    "    \n",
    "    return board"
   ]
  },
  {
   "cell_type": "code",
   "execution_count": 217,
   "metadata": {},
   "outputs": [],
   "source": [
    "board =init_board()"
   ]
  },
  {
   "cell_type": "code",
   "execution_count": 218,
   "metadata": {},
   "outputs": [],
   "source": [
    "import string, re"
   ]
  },
  {
   "cell_type": "code",
   "execution_count": 219,
   "metadata": {},
   "outputs": [
    {
     "data": {
      "text/plain": [
       "'Nf5'"
      ]
     },
     "execution_count": 219,
     "metadata": {},
     "output_type": "execute_result"
    }
   ],
   "source": [
    "move = \"Nxf5+\"\n",
    "pattern = re.compile(\"[\\Wx]+\") \n",
    "pattern.sub(\"\", move)"
   ]
  },
  {
   "cell_type": "code",
   "execution_count": 264,
   "metadata": {},
   "outputs": [],
   "source": [
    "def parse_move(move):\n",
    "    \n",
    "    # Remove capture/check notation (x/+)\n",
    "    pattern = re.compile(\"[\\Wx]+\") \n",
    "    move = pattern.sub(\"\", move)    \n",
    "    \n",
    "    piece_dict = {\"R\": 1, \"N\": 2, \"B\": 3, \"Q\": 4, \"K\": 5}\n",
    "    \n",
    "    # Identify piece type\n",
    "    if move[0].isupper():\n",
    "        d = piece_dict[move[0]]\n",
    "        move = move[1:]\n",
    "    else:\n",
    "        d = 0\n",
    "        \n",
    "    # Check for ambiguity in move\n",
    "    if len(move) == 3:\n",
    "        ambig = move[0]\n",
    "        move = move[1:]\n",
    "    elif len(move) > 3:\n",
    "        return -1\n",
    "    else:\n",
    "        ambig = None\n",
    "     \n",
    "    \n",
    "    rank_dict = {\"a\": 7, \"b\": 6, \"c\": 5, \"d\": 4, \"e\": 3, \"f\": 2, \"g\": 1, \"h\": 0}\n",
    "    \n",
    "    r, f = rank_dict[move[0]], int(move[1])-1\n",
    "    \n",
    "    return [r, f, d, ambig]"
   ]
  },
  {
   "cell_type": "code",
   "execution_count": 265,
   "metadata": {},
   "outputs": [
    {
     "data": {
      "text/plain": [
       "[7, 3, 5, None]"
      ]
     },
     "execution_count": 265,
     "metadata": {},
     "output_type": "execute_result"
    }
   ],
   "source": [
    "parse_move(\"Kxa4\")"
   ]
  },
  {
   "cell_type": "code",
   "execution_count": 266,
   "metadata": {
    "collapsed": true
   },
   "outputs": [],
   "source": [
    "board = init_board()"
   ]
  },
  {
   "cell_type": "code",
   "execution_count": 267,
   "metadata": {},
   "outputs": [
    {
     "data": {
      "text/plain": [
       "array([[ 0,  0,  0,  0,  0,  0,  0,  0],\n",
       "       [ 0,  0,  0,  0,  0, -1,  0,  0],\n",
       "       [ 0,  0,  0,  0,  0,  0,  0,  0],\n",
       "       [ 0,  0,  0,  0,  0,  0,  0,  0],\n",
       "       [ 0,  0,  0,  0,  0,  0,  0,  0],\n",
       "       [ 0,  0,  0,  0,  0,  0,  0,  0],\n",
       "       [ 0,  0,  0,  0,  0,  0,  0,  0],\n",
       "       [ 0,  0,  0,  0,  1,  0,  0,  0]], dtype=int8)"
      ]
     },
     "execution_count": 267,
     "metadata": {},
     "output_type": "execute_result"
    }
   ],
   "source": [
    "to = parse_move(\"Kg6\")\n",
    "move_KQ(to, -1)\n",
    "board[:, :, 5]"
   ]
  },
  {
   "cell_type": "code",
   "execution_count": 268,
   "metadata": {
    "collapsed": true
   },
   "outputs": [],
   "source": [
    "def unroll(board):\n",
    "    return board.ravel()"
   ]
  },
  {
   "cell_type": "code",
   "execution_count": 269,
   "metadata": {},
   "outputs": [
    {
     "data": {
      "text/plain": [
       "array([ 0, -1,  0,  0,  0,  0,  0,  0, -1,  0,  0,  0,  0,  0,  0, -1,  0,\n",
       "        0,  0,  0,  0,  0, -1,  0,  0,  0,  0,  0,  0,  0,  0,  0,  0, -1,\n",
       "        0,  0,  0,  0, -1,  0,  0,  0,  0, -1,  0,  0,  0,  0, -1,  0,  0,\n",
       "        0,  0,  0, -1,  0,  0,  0,  0,  0, -1,  0,  0,  0,  0,  0, -1,  0,\n",
       "        0,  0,  0,  0, -1,  0,  0,  0,  0,  0, -1,  0,  0,  0,  0, -1, -1,\n",
       "        0,  0,  0,  0,  0, -1,  0,  0,  0,  0,  0,  0,  0,  0,  0,  0,  0,\n",
       "        0,  0,  0,  0,  0,  0,  0,  0,  0,  0,  0,  0,  0,  0,  0,  0,  0,\n",
       "        0,  0,  0,  0,  0,  0,  0,  0,  0,  0,  0,  0,  0,  0,  0,  0,  0,\n",
       "        0,  0,  0,  0,  0,  0,  0,  0,  0,  0,  0,  0,  0,  0,  0,  0,  0,\n",
       "        0,  0,  0,  0,  0,  0,  0,  0,  0,  0,  0,  0,  0,  0,  0,  0,  0,\n",
       "        0,  0,  0,  0,  0,  0,  0,  0,  0,  0,  0,  0,  0,  0,  0,  0,  0,\n",
       "        0,  0,  0,  0,  0,  0,  0,  0,  0,  0,  0,  0,  0,  0,  0,  0,  0,\n",
       "        0,  0,  0,  0,  0,  0,  0,  0,  0,  0,  0,  0,  0,  0,  0,  0,  0,\n",
       "        0,  0,  0,  0,  0,  0,  0,  0,  0,  0,  0,  0,  0,  0,  0,  0,  0,\n",
       "        0,  0,  0,  0,  0,  0,  0,  0,  0,  0,  0,  0,  0,  0,  0,  0,  0,\n",
       "        0,  0,  0,  0,  0,  0,  0,  0,  0,  0,  0,  0,  0,  0,  0,  0,  0,\n",
       "        0,  0,  0,  0,  0,  0,  0,  0,  0,  0,  0,  0,  0,  0,  0,  0, -1,\n",
       "        0,  0,  0,  0,  0, -1,  0,  0,  0,  0,  0, -1,  0,  0,  0,  0,  0,\n",
       "       -1,  0,  0,  0,  0,  0, -1,  0,  0,  0,  0,  0, -1,  0,  0,  0,  0,\n",
       "        0, -1,  0,  0,  0,  0,  0, -1,  0,  0,  0,  0,  0,  0,  1,  0,  0,\n",
       "        0,  0,  0,  0,  1,  0,  0,  0,  0,  0,  0,  1,  0,  0,  0,  0,  0,\n",
       "        0,  1,  0,  0,  0,  0,  0,  0,  1,  0,  0,  0,  1,  0,  0,  0,  0,\n",
       "        1,  0,  0,  0,  0,  1,  0,  0,  0,  0], dtype=int8)"
      ]
     },
     "execution_count": 269,
     "metadata": {},
     "output_type": "execute_result"
    }
   ],
   "source": [
    "unroll(board)"
   ]
  },
  {
   "cell_type": "code",
   "execution_count": 297,
   "metadata": {},
   "outputs": [],
   "source": [
    "def move_R(to, player):\n",
    "    r, f, d, ambig = to\n",
    "   \n",
    "    if np.array([board[:, :, d] == player]).sum() == 1:\n",
    "        return move_simple(to, player)\n",
    "        \n",
    "    elif np.array([board[:, f, d] == player]).sum() == 1:\n",
    "        board[:, f, d] = np.multiply(board[:, f, d],\n",
    "                                     np.array([board[:, f, d] != player]))\n",
    "        \n",
    "    elif np.array([board[r, :, d] == player]).sum() == 1:\n",
    "        board[r, :, d] = np.multiply(board[r, :, d],\n",
    "                                     np.array([board[r, :, d] != player]))\n",
    "                \n",
    "    else:\n",
    "        try:\n",
    "            a = int(ambig)-1\n",
    "            board[:, a, d] = np.multiply(board[:, a, d],\n",
    "                                         np.array([board[:, a, d] != player]))\n",
    "            \n",
    "        except ValueError:\n",
    "            rank_dict = {\"a\": 7, \"b\": 6, \"c\": 5, \"d\": 4, \"e\": 3, \"f\": 2, \"g\": 1, \"h\": 0}\n",
    "            a = rank_dict(ambig)\n",
    "            board[a, :, d] = np.multiply(board[a, :, d],\n",
    "                                         np.array([board[a, :, d] != player]))\n",
    "        \n",
    "    board[r, f, d] = player\n",
    "        "
   ]
  },
  {
   "cell_type": "code",
   "execution_count": 303,
   "metadata": {},
   "outputs": [
    {
     "name": "stdout",
     "output_type": "stream",
     "text": [
      "[7, 4, 1, '8']\n"
     ]
    },
    {
     "data": {
      "text/plain": [
       "array([[-1,  0,  0,  0,  0,  0,  0, -1],\n",
       "       [ 0,  0,  0,  0,  0,  0,  0,  0],\n",
       "       [ 0,  0,  0,  0,  0,  0,  0,  0],\n",
       "       [ 0,  0,  0,  0,  0,  0,  0,  0],\n",
       "       [ 0,  0,  0,  0,  0,  0,  0,  0],\n",
       "       [ 0,  0,  0,  0,  0,  0,  0,  0],\n",
       "       [ 0,  0,  0,  0,  0,  0,  0,  0],\n",
       "       [ 1,  0,  0,  0,  1,  0,  0,  0]], dtype=int8)"
      ]
     },
     "execution_count": 303,
     "metadata": {},
     "output_type": "execute_result"
    }
   ],
   "source": [
    "board = init_board()\n",
    "move = parse_move(\"R8a5\")\n",
    "print(move)\n",
    "move_R(move, 1)\n",
    "board[:, :, 1]"
   ]
  },
  {
   "cell_type": "code",
   "execution_count": null,
   "metadata": {
    "collapsed": true
   },
   "outputs": [],
   "source": []
  }
 ],
 "metadata": {
  "kernelspec": {
   "display_name": "Python 3",
   "language": "python",
   "name": "python3"
  },
  "language_info": {
   "codemirror_mode": {
    "name": "ipython",
    "version": 3
   },
   "file_extension": ".py",
   "mimetype": "text/x-python",
   "name": "python",
   "nbconvert_exporter": "python",
   "pygments_lexer": "ipython3",
   "version": "3.6.1"
  }
 },
 "nbformat": 4,
 "nbformat_minor": 2
}
